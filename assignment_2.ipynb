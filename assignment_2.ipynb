{
  "nbformat": 4,
  "nbformat_minor": 0,
  "metadata": {
    "colab": {
      "provenance": []
    },
    "kernelspec": {
      "name": "python3",
      "display_name": "Python 3"
    },
    "language_info": {
      "name": "python"
    }
  },
  "cells": [
    {
      "cell_type": "markdown",
      "source": [
        "#**THEORY QUESTIONS**\n",
        "# 1. **What is data structure ? and why is it important ?**\n",
        "-  Data structure is a way of organizing and storing data so tht it can be accessed and manipulate easily .\n",
        "##    list are of six types as follows >>\n",
        "-  **strings**\n",
        "-  **lists**\n",
        "-  **Set**\n",
        "-  **Tuples**\n",
        "-  **Dictionary**\n",
        "-  **Array**\n",
        "## Uses of data structure are >>\n",
        "- 1.Organizing data\n",
        "- 2.Storing data\n",
        "\n",
        "\n",
        "# 2. **Explain the difference between mutable and immutable data types with examples**.\n",
        "-  Objects whose states or value can be changed after they are created are mutable objects.\n",
        " Example >> Lists , dictionary , sets , array.\n",
        "-  Objects whose states or value cannot be changed after they are created are mutable objects.\n",
        " Example >> tuples ,Strings.\n",
        "\n",
        "\n",
        "# 3.  **What are the main differences between lists and tuples in Python?**\n",
        "-  The main difference between Lists and Tuples is that lists are mutable and tuples are immutable .\n",
        "\n",
        "\n",
        "# 4. **Describe how dictionaries store data.**\n",
        "-  Dictionaries store data in the form of key value pairs.\n",
        " Examples >> {\"dad\":1234567890 , \"mom\":0987654321}\n",
        "\n",
        "\n",
        "# 5.**Why might you use a sets instead of a list in Python?**\n",
        "-  In case of creating a data to get a unique elements we can use sets as they are unordered collections of unique elemets whereas lists are an ordered collection of element that can be of any data .\n",
        "\n",
        "\n",
        "# 6.**What is a string in Python, and how is it different from a list?**\n",
        "- Strings are sequeence of character that represents and manipulate textual data whereas lists are collection of element that can be of any data and most importantly lists are mutable but strings are immutable .\n",
        "\n",
        "\n",
        "# 7. **How do tuples ensure data integrity in Python?**\n",
        "- Tuples in Python are a powerful tool for ensuring data integrity due to their immutable nature. Here’s how they contribute to maintaining data integrity:\n",
        "\n",
        "1. Immutability\n",
        "2. Hashability\n",
        "3. Predictable Behavior\n",
        "4. Data Integrity in Collections\n",
        "\n",
        "\n",
        "# 8. **What is a hash table, and how does it relate to dictionaries in Python?**\n",
        "- A hash table is a data structure that maps keys to values using a hash function. This function computes an index into an array of buckets or slots, from which the desired value can be found. The primary advantage of hash tables is their efficiency in performing lookups, insertions, and deletions.\n",
        "\n",
        "\n",
        "# 9. **Can lists contain different data types in Python?**\n",
        "- yes lists can store hetreogenous data it means it can store anything .\n",
        "\n",
        "\n",
        "# 10. **Explain why strings are immutable in Python.**\n",
        "- Strings in Python are “immutable” which means they can not be changed after they are created. Some other immutable data types are integers, float, boolean, etc.\n",
        "\n",
        "- The immutability of Python string is very useful as it helps in hashing, performance optimization, safety, ease of use, etc.\n",
        "\n",
        "\n",
        "# 11. **What advantages do dictionaries offer over lists for certain tasks?**\n",
        "- Dictionaries excel at tasks requiring fast lookups and storing data as key-value pairs, while lists are better when maintaining order and performing sequential operations.\n",
        "\n",
        "\n",
        "#12. **Describe a scenario where using a tuple would be preferable over a list.**\n",
        "-Tuples are also more memory efficient than the lists. When it comes to time efficiency, tuples have a slight advantage over lists especially when we consider lookup value. If you have data that shouldn't change, you should choose tuple data type over lists.\n",
        "\n",
        "\n",
        "#13. **How do sets handle duplicate values in Python.**\n",
        "- Sets remove the duplicate value .Python sets cannot have duplicate values. While you cannot modify the individual elements directly, you can still add or remove elements from the set. Output: The first code explains that the set cannot have a duplicate value.\n",
        "\n",
        "\n",
        "#14. **How does the “in” keyword work differently for lists and dictionaries.**\n",
        "- The in and not in operator works on dictionaries; it tells you whether something appears or not as a key in the dictionary. It returns two values True or False.\n",
        "\n",
        "The in operator uses different algorithms for lists and dictionaries. For lists, it uses a search algorithm. As the list gets longer, the search time gets longer in direct\n",
        "proportion. For dictionaries, Python uses an algorithm called a hashtable that has a remarkable property: the in operator takes about the same amount of time no matter how many items there are in a dictionary.\n",
        "\n",
        "\n",
        "#15. **Can you modify the elements of a tuple? Explain why or why not.**\n",
        "- No, you cannot directly modify the elements of a tuple in Python because tuples are immutable, meaning their contents cannot be changed after creation.\n",
        "\n",
        "#16. **What is a nested dictionary, and give an example of its use case.**\n",
        "- A nested dictionary in Python is a dictionary where the values are themselves dictionaries, allowing for hierarchical data organization. A common use case is representing structured data like employee records or JSON data.\n",
        "\n",
        "\n",
        "#17. **Describe the time complexity of accessing elements in a dictionary.**\n",
        "- Accessing elements in a dictionary (or hash map) by key has an average time complexity of O(1), meaning it takes constant time, regardless of the dictionary's size.\n",
        "\n",
        "\n",
        "#18. **In what situations are lists preferred over dictionaries.**\n",
        "- f you need an ordered collection, like a sequence of user actions, lists are your go-to. On the other hand, when you need quick look-ups, like mapping usernames to user data, dictionaries are invaluable.\n",
        "\n",
        "\n",
        "#19. **Why are dictionaries considered unordered, and how does that affect data retrieval.**\n",
        "- Dictionaries are considered unordered because they are designed for fast key-based lookup rather than maintaining the order of elements as they are added. This means that while you can iterate through a dictionary, the order of the key-value pairs might not be consistent with the order in which they were inserted.\n",
        "\n",
        "\n",
        "#20. **Explain the difference between a list and a dictionary in terms of data retrieval.**\n",
        "- A list is an ordered collection of items, whereas a dictionary is an unordered data collection in a key: value pair. Elements from the list can be accessed using the index, while the elements of the dictionary can be accessed using keys.\n",
        "\n",
        "  "
      ],
      "metadata": {
        "id": "dO_WRqvccR61"
      }
    },
    {
      "cell_type": "markdown",
      "source": [
        "# **PRACTICAL QUESTIONS**"
      ],
      "metadata": {
        "id": "nbbb06c2kVb8"
      }
    },
    {
      "cell_type": "code",
      "source": [
        "#1.Write a code to create a string with your name and print it.\n",
        "Name = \"Muskan_singh_rajput\""
      ],
      "metadata": {
        "id": "zg0ZhugBd00N"
      },
      "execution_count": 32,
      "outputs": []
    },
    {
      "cell_type": "markdown",
      "source": [],
      "metadata": {
        "id": "ABclLyorcQ2H"
      }
    },
    {
      "cell_type": "code",
      "source": [
        " #2. Write a code to find the length of the string \"Hello World\".\n",
        " a = \"Hello World\"\n",
        " len(a)\n"
      ],
      "metadata": {
        "colab": {
          "base_uri": "https://localhost:8080/"
        },
        "id": "WABQbIMNnREG",
        "outputId": "7d165d9e-0682-43cf-b5c5-3c5971ce6756"
      },
      "execution_count": 33,
      "outputs": [
        {
          "output_type": "execute_result",
          "data": {
            "text/plain": [
              "11"
            ]
          },
          "metadata": {},
          "execution_count": 33
        }
      ]
    },
    {
      "cell_type": "code",
      "source": [
        "#3. Write a code to slice the first 3 characters from the string \"Python Programming\"?\n",
        "a = \"Python Programming\"\n",
        "a[0:3]"
      ],
      "metadata": {
        "colab": {
          "base_uri": "https://localhost:8080/",
          "height": 36
        },
        "id": "0YkISVH1nRGx",
        "outputId": "2cc8ddd8-51cb-470e-9c41-ebe23bf84158"
      },
      "execution_count": 34,
      "outputs": [
        {
          "output_type": "execute_result",
          "data": {
            "text/plain": [
              "'Pyt'"
            ],
            "application/vnd.google.colaboratory.intrinsic+json": {
              "type": "string"
            }
          },
          "metadata": {},
          "execution_count": 34
        }
      ]
    },
    {
      "cell_type": "code",
      "source": [
        "#4. Write a code to convert the string \"hello\" to uppercase.\n",
        "a = \"hello\"\n",
        "a.capitalize()"
      ],
      "metadata": {
        "colab": {
          "base_uri": "https://localhost:8080/",
          "height": 36
        },
        "id": "Rf6QLAyGnRKF",
        "outputId": "31d969ac-2d12-483b-f8e8-f6cbe91d4d32"
      },
      "execution_count": 35,
      "outputs": [
        {
          "output_type": "execute_result",
          "data": {
            "text/plain": [
              "'Hello'"
            ],
            "application/vnd.google.colaboratory.intrinsic+json": {
              "type": "string"
            }
          },
          "metadata": {},
          "execution_count": 35
        }
      ]
    },
    {
      "cell_type": "code",
      "source": [
        "#5. Write a code to replace the word \"apple\" with \"orange\" in the string \"I like apple\".\n",
        "a = \"I like apple\"\n",
        "a.replace(\"apple\",\"orange\")"
      ],
      "metadata": {
        "colab": {
          "base_uri": "https://localhost:8080/",
          "height": 36
        },
        "id": "LyghjtSxnRaz",
        "outputId": "d199d0c8-a12f-4396-e185-da3fe4dadbb9"
      },
      "execution_count": 36,
      "outputs": [
        {
          "output_type": "execute_result",
          "data": {
            "text/plain": [
              "'I like orange'"
            ],
            "application/vnd.google.colaboratory.intrinsic+json": {
              "type": "string"
            }
          },
          "metadata": {},
          "execution_count": 36
        }
      ]
    },
    {
      "cell_type": "code",
      "source": [
        "#6. Write a code to create a list with numbers 1 to 5 and print it.\n",
        "a = [1,2,3,4,5]\n",
        "print(a)"
      ],
      "metadata": {
        "colab": {
          "base_uri": "https://localhost:8080/"
        },
        "id": "aiH3-0E5pG9e",
        "outputId": "3159508f-dec4-49c7-8ab1-aeaceabb118a"
      },
      "execution_count": 37,
      "outputs": [
        {
          "output_type": "stream",
          "name": "stdout",
          "text": [
            "[1, 2, 3, 4, 5]\n"
          ]
        }
      ]
    },
    {
      "cell_type": "code",
      "source": [
        "#7. Write a code to append the number 10 to the list [1, 2, 3, 4].\n",
        "a = [1,2,3,4]\n",
        "a.append(10)\n",
        "print(a)"
      ],
      "metadata": {
        "colab": {
          "base_uri": "https://localhost:8080/"
        },
        "id": "vLUFTolRpvas",
        "outputId": "7671d80b-324a-497c-b84e-23caaef826f7"
      },
      "execution_count": 38,
      "outputs": [
        {
          "output_type": "stream",
          "name": "stdout",
          "text": [
            "[1, 2, 3, 4, 10]\n"
          ]
        }
      ]
    },
    {
      "cell_type": "code",
      "source": [
        "#8. Write a code to remove the number 3 from the list [1, 2, 3, 4, 5].\n",
        "a =  [1,2,3,4,5]\n",
        "a.remove(3)\n",
        "print(a)"
      ],
      "metadata": {
        "colab": {
          "base_uri": "https://localhost:8080/"
        },
        "id": "Y4FwWJi_qtgr",
        "outputId": "5d6969e6-78cf-445e-d881-4b614c9a019a"
      },
      "execution_count": 39,
      "outputs": [
        {
          "output_type": "stream",
          "name": "stdout",
          "text": [
            "[1, 2, 4, 5]\n"
          ]
        }
      ]
    },
    {
      "cell_type": "code",
      "source": [
        "#9. Write a code to access the second element in the list ['a', 'b', 'c', 'd'].\n",
        "a =  ['a', 'b', 'c', 'd']\n",
        "a[1]"
      ],
      "metadata": {
        "colab": {
          "base_uri": "https://localhost:8080/",
          "height": 36
        },
        "id": "DyPQiSGdrHxU",
        "outputId": "35af1f1a-45af-48ed-a727-00478e2d687d"
      },
      "execution_count": 40,
      "outputs": [
        {
          "output_type": "execute_result",
          "data": {
            "text/plain": [
              "'b'"
            ],
            "application/vnd.google.colaboratory.intrinsic+json": {
              "type": "string"
            }
          },
          "metadata": {},
          "execution_count": 40
        }
      ]
    },
    {
      "cell_type": "code",
      "source": [
        "#10. Write a code to reverse the list [10, 20, 30, 40, 50].\n",
        "a =[10 , 20 , 30 , 40 ,50]\n",
        "a[::-1]"
      ],
      "metadata": {
        "colab": {
          "base_uri": "https://localhost:8080/"
        },
        "id": "B74hPQQjrsyH",
        "outputId": "98ba0760-83d6-4ec3-fd57-c2e297dfdac7"
      },
      "execution_count": 41,
      "outputs": [
        {
          "output_type": "execute_result",
          "data": {
            "text/plain": [
              "[50, 40, 30, 20, 10]"
            ]
          },
          "metadata": {},
          "execution_count": 41
        }
      ]
    },
    {
      "cell_type": "code",
      "source": [
        "#11. Write a code to create a tuple with the elements 100, 200, 300 and print it.\n",
        "a = (100 ,200, 300)\n",
        "print(a)"
      ],
      "metadata": {
        "colab": {
          "base_uri": "https://localhost:8080/"
        },
        "id": "5seyfwCjsQM7",
        "outputId": "303c5b5a-4944-4098-e8b1-4811dca9f4a9"
      },
      "execution_count": 42,
      "outputs": [
        {
          "output_type": "stream",
          "name": "stdout",
          "text": [
            "(100, 200, 300)\n"
          ]
        }
      ]
    },
    {
      "cell_type": "code",
      "source": [
        "#12. Write a code to access the second-to-last element of the tuple ('red', 'green', 'blue', 'yellow').\n",
        "a =  ('red', 'green', 'blue', 'yellow')\n",
        "a[1:]"
      ],
      "metadata": {
        "colab": {
          "base_uri": "https://localhost:8080/"
        },
        "id": "e51_fN_OtU7t",
        "outputId": "ba721353-1b5b-470a-e520-79b83dd018b0"
      },
      "execution_count": 43,
      "outputs": [
        {
          "output_type": "execute_result",
          "data": {
            "text/plain": [
              "('green', 'blue', 'yellow')"
            ]
          },
          "metadata": {},
          "execution_count": 43
        }
      ]
    },
    {
      "cell_type": "code",
      "source": [
        "#13. Write a code to find the minimum number in the tuple (10, 20, 5, 15).\n",
        "a =  (10, 20, 5, 15)\n",
        "min(a)"
      ],
      "metadata": {
        "colab": {
          "base_uri": "https://localhost:8080/"
        },
        "id": "E0de9Jm_t8ek",
        "outputId": "c5141a73-7612-4762-a59c-a255f97e4363"
      },
      "execution_count": 44,
      "outputs": [
        {
          "output_type": "execute_result",
          "data": {
            "text/plain": [
              "5"
            ]
          },
          "metadata": {},
          "execution_count": 44
        }
      ]
    },
    {
      "cell_type": "code",
      "source": [
        "#14. Write a code to find the index of the element \"cat\" in the tuple ('dog', 'cat', 'rabbit').\n",
        "a =  ('dog', 'cat', 'rabbit')\n",
        "a.index(\"cat\")"
      ],
      "metadata": {
        "colab": {
          "base_uri": "https://localhost:8080/"
        },
        "id": "Rdr40hm9uTTO",
        "outputId": "bf11bfd5-088b-4ac7-8a2b-71697fed5f6c"
      },
      "execution_count": 45,
      "outputs": [
        {
          "output_type": "execute_result",
          "data": {
            "text/plain": [
              "1"
            ]
          },
          "metadata": {},
          "execution_count": 45
        }
      ]
    },
    {
      "cell_type": "code",
      "source": [
        "#15. Write a code to create a tuple containing three different fruits and check if \"kiwi\" is in it.\n",
        "a = (\"apple\" , \"kiwi\" ,\"mango\")\n",
        "\"kiwi\" in a"
      ],
      "metadata": {
        "colab": {
          "base_uri": "https://localhost:8080/"
        },
        "id": "-cbFwMDcunEZ",
        "outputId": "930fe686-a47b-4b8d-95f0-ae65a9d18ef2"
      },
      "execution_count": 46,
      "outputs": [
        {
          "output_type": "execute_result",
          "data": {
            "text/plain": [
              "True"
            ]
          },
          "metadata": {},
          "execution_count": 46
        }
      ]
    },
    {
      "cell_type": "code",
      "source": [
        "#16. Write a code to create a set with the elements 'a', 'b', 'c' and print it.\n",
        "a = {\"a\" , \"b\", \"c\"}\n",
        "print(a)\n",
        "\n"
      ],
      "metadata": {
        "colab": {
          "base_uri": "https://localhost:8080/"
        },
        "id": "BLHCWXUsvnnM",
        "outputId": "cf43ef3c-f8f2-41c8-f566-fcef71208b5f"
      },
      "execution_count": 47,
      "outputs": [
        {
          "output_type": "stream",
          "name": "stdout",
          "text": [
            "{'b', 'c', 'a'}\n"
          ]
        }
      ]
    },
    {
      "cell_type": "code",
      "source": [
        "#17. Write a code to clear all elements from the set {1, 2, 3, 4, 5}.\n",
        "a = {1, 2 ,3 ,4 ,5 }\n",
        "a.clear()\n",
        "a"
      ],
      "metadata": {
        "colab": {
          "base_uri": "https://localhost:8080/"
        },
        "id": "Ypj-KnDKv_Sh",
        "outputId": "e98dea53-e622-4464-cc00-3c655e466aa7"
      },
      "execution_count": 48,
      "outputs": [
        {
          "output_type": "execute_result",
          "data": {
            "text/plain": [
              "set()"
            ]
          },
          "metadata": {},
          "execution_count": 48
        }
      ]
    },
    {
      "cell_type": "code",
      "source": [
        "#18. Write a code to remove the element 4 from the set {1, 2, 3, 4}.\n",
        "a = {1, 2, 3, 4}\n",
        "a.remove(4)\n",
        "a"
      ],
      "metadata": {
        "colab": {
          "base_uri": "https://localhost:8080/"
        },
        "id": "KgUh4rruwaoH",
        "outputId": "50f7293f-5a23-4daa-e158-c9c60a4d5ec0"
      },
      "execution_count": 49,
      "outputs": [
        {
          "output_type": "execute_result",
          "data": {
            "text/plain": [
              "{1, 2, 3}"
            ]
          },
          "metadata": {},
          "execution_count": 49
        }
      ]
    },
    {
      "cell_type": "code",
      "source": [
        "#19. Write a code to find the union of two sets {1, 2, 3} and {3, 4, 5}.\n",
        "a = {1,2,3}\n",
        "b = {3,4,5}\n",
        "a | b"
      ],
      "metadata": {
        "colab": {
          "base_uri": "https://localhost:8080/"
        },
        "id": "XAuqDuHVw-cj",
        "outputId": "8988258b-50c4-49e4-9f75-03068117b532"
      },
      "execution_count": 4,
      "outputs": [
        {
          "output_type": "execute_result",
          "data": {
            "text/plain": [
              "{1, 2, 3, 4, 5}"
            ]
          },
          "metadata": {},
          "execution_count": 4
        }
      ]
    },
    {
      "cell_type": "code",
      "source": [
        "#20. Write a code to find the intersection of two sets {1, 2, 3} and {2, 3, 4}.\n",
        "a = {1,2,3}\n",
        "b = {2,3,4}\n",
        "a & b"
      ],
      "metadata": {
        "colab": {
          "base_uri": "https://localhost:8080/"
        },
        "id": "hmNEoGkQx5Sw",
        "outputId": "91b7d04c-a7e1-48f0-c26e-28201d47592e"
      },
      "execution_count": 6,
      "outputs": [
        {
          "output_type": "execute_result",
          "data": {
            "text/plain": [
              "{2, 3}"
            ]
          },
          "metadata": {},
          "execution_count": 6
        }
      ]
    },
    {
      "cell_type": "code",
      "source": [
        "#21. Write a code to create a dictionary with the keys \"name\", \"age\", and \"city\", and print it.\n",
        "d = {\"name\" : \"muskan\" , \"age\": \"19\" , \"city\":\"delhi\"}\n",
        "print(d)"
      ],
      "metadata": {
        "id": "te2ZzQkiy1JK",
        "colab": {
          "base_uri": "https://localhost:8080/"
        },
        "outputId": "935b6ff8-8208-43dd-e397-da0751ace581"
      },
      "execution_count": 8,
      "outputs": [
        {
          "output_type": "stream",
          "name": "stdout",
          "text": [
            "{'name': 'muskan', 'age': '19', 'city': 'delhi'}\n"
          ]
        }
      ]
    },
    {
      "cell_type": "code",
      "source": [
        "#22. Write a code to add a new key-value pair \"country\": \"USA\" to the dictionary {'name': 'John', 'age': 25}.\n",
        "d =  {'name': 'John', 'age': 25}\n",
        "d[\"country\"] = \"USA\"\n",
        "d"
      ],
      "metadata": {
        "colab": {
          "base_uri": "https://localhost:8080/"
        },
        "id": "I_tvJmEQSkrW",
        "outputId": "4c02ecdd-f419-4ea3-f361-350f883fdc80"
      },
      "execution_count": 12,
      "outputs": [
        {
          "output_type": "execute_result",
          "data": {
            "text/plain": [
              "{'name': 'John', 'age': 25, 'country': 'USA'}"
            ]
          },
          "metadata": {},
          "execution_count": 12
        }
      ]
    },
    {
      "cell_type": "code",
      "source": [
        "#23. Write a code to access the value associated with the key \"name\" in the dictionary {'name': 'Alice', 'age': 30}.\n",
        "d =  {'name': 'Alice', 'age': 30}\n",
        "d ['name']\n"
      ],
      "metadata": {
        "colab": {
          "base_uri": "https://localhost:8080/",
          "height": 36
        },
        "id": "IHNSCp_mTKfU",
        "outputId": "90a66761-7cb5-4884-edeb-dd5621f776c5"
      },
      "execution_count": 14,
      "outputs": [
        {
          "output_type": "execute_result",
          "data": {
            "text/plain": [
              "'Alice'"
            ],
            "application/vnd.google.colaboratory.intrinsic+json": {
              "type": "string"
            }
          },
          "metadata": {},
          "execution_count": 14
        }
      ]
    },
    {
      "cell_type": "code",
      "source": [
        "#24. Write a code to remove the key \"age\" from the dictionary {'name': 'Bob', 'age': 22, 'city': 'New York'}.\n",
        "d = {'name': 'Bob', 'age': 22, 'city': 'New York'}\n",
        "d.pop(\"age\")\n",
        "print(d)"
      ],
      "metadata": {
        "colab": {
          "base_uri": "https://localhost:8080/"
        },
        "id": "TCxDKjO_UCTA",
        "outputId": "31a3646a-7815-434c-c36c-41d4fba00bf1"
      },
      "execution_count": 17,
      "outputs": [
        {
          "output_type": "stream",
          "name": "stdout",
          "text": [
            "{'name': 'Bob', 'city': 'New York'}\n"
          ]
        }
      ]
    },
    {
      "cell_type": "code",
      "source": [
        "#25. Write a code to check if the key \"city\" exists in the dictionary {'name': 'Alice', 'city': 'Paris'}.\n",
        "d = {'name': 'Alice', 'city': 'Paris'}\n",
        "\"city\" in d"
      ],
      "metadata": {
        "colab": {
          "base_uri": "https://localhost:8080/"
        },
        "id": "8cAA1MgqUn4k",
        "outputId": "736d7181-c35a-4d7f-ac41-ec145219f8fe"
      },
      "execution_count": 18,
      "outputs": [
        {
          "output_type": "execute_result",
          "data": {
            "text/plain": [
              "True"
            ]
          },
          "metadata": {},
          "execution_count": 18
        }
      ]
    },
    {
      "cell_type": "code",
      "source": [
        "#26. Write a code to create a list, a tuple, and a dictionary, and print them all.\n",
        "a = [ \"muskan\" , \"divya\" , 1 , 2.1 , True]\n",
        "b = (\"muskan\" , \"divya\" , \"meenakshi\")\n",
        "c = {\"name\" : \"muskan\"}\n",
        "print(a)\n",
        "print(b)\n",
        "print(c)"
      ],
      "metadata": {
        "colab": {
          "base_uri": "https://localhost:8080/"
        },
        "id": "MQ7ypBjSVgAc",
        "outputId": "7077dccf-9d72-4beb-c894-c57b1cbf014d"
      },
      "execution_count": 22,
      "outputs": [
        {
          "output_type": "stream",
          "name": "stdout",
          "text": [
            "['muskan', 'divya', 1, 2.1, True]\n",
            "('muskan', 'divya', 'meenakshi')\n",
            "{'name': 'muskan'}\n"
          ]
        }
      ]
    },
    {
      "cell_type": "code",
      "source": [
        "#27. Write a code to create a list of 5 random numbers between 1 and 100, sort it in ascending order, and print the result .\n",
        "import random\n",
        "random_numbers = [random.randint(1, 100) for _ in range(5)]\n",
        "random_numbers.sort()\n",
        "print(random_numbers)"
      ],
      "metadata": {
        "colab": {
          "base_uri": "https://localhost:8080/"
        },
        "id": "r14UtggKWaiY",
        "outputId": "e3422073-d8de-4a84-dc49-e3753c73f27c"
      },
      "execution_count": 23,
      "outputs": [
        {
          "output_type": "stream",
          "name": "stdout",
          "text": [
            "[38, 39, 43, 70, 78]\n"
          ]
        }
      ]
    },
    {
      "cell_type": "code",
      "source": [
        "#28. Write a code to create a list with strings and print the element at the third index.\n",
        "list = [\"a\" , \"b\" , \"c\" , \"d\" , \"e\"]\n",
        "list[3]"
      ],
      "metadata": {
        "colab": {
          "base_uri": "https://localhost:8080/",
          "height": 36
        },
        "id": "AEAjDOGAYGMa",
        "outputId": "e6da33ad-c2de-4e03-a160-476a3d407268"
      },
      "execution_count": 26,
      "outputs": [
        {
          "output_type": "execute_result",
          "data": {
            "text/plain": [
              "'d'"
            ],
            "application/vnd.google.colaboratory.intrinsic+json": {
              "type": "string"
            }
          },
          "metadata": {},
          "execution_count": 26
        }
      ]
    },
    {
      "cell_type": "code",
      "source": [
        "#29. Write a code to combine two dictionaries into one and print the result.\n",
        "dict1 = {'a': 1, 'b': 2}\n",
        "dict2 = {'c': 3, 'd': 4}\n",
        "\n",
        "merged_dict = dict1.copy()\n",
        "merged_dict.update(dict2)\n",
        "\n",
        "print(merged_dict)"
      ],
      "metadata": {
        "colab": {
          "base_uri": "https://localhost:8080/"
        },
        "id": "x5KUN6AwYnZT",
        "outputId": "e50a881d-d965-49d6-b7da-c3b764c67dfa"
      },
      "execution_count": 27,
      "outputs": [
        {
          "output_type": "stream",
          "name": "stdout",
          "text": [
            "{'a': 1, 'b': 2, 'c': 3, 'd': 4}\n"
          ]
        }
      ]
    },
    {
      "cell_type": "code",
      "source": [
        "#30. Write a code to convert a list of strings into a set.\n",
        "m = set(list)\n",
        "print(list)\n",
        "print(m)\n",
        "print(type(m))\n",
        "\n"
      ],
      "metadata": {
        "colab": {
          "base_uri": "https://localhost:8080/"
        },
        "id": "JnT47stIZPiT",
        "outputId": "9679316f-bbf2-47da-8a1f-2e67f69d287f"
      },
      "execution_count": 31,
      "outputs": [
        {
          "output_type": "stream",
          "name": "stdout",
          "text": [
            "['a', 'b', 'c', 'd', 'e']\n",
            "{'e', 'c', 'b', 'd', 'a'}\n",
            "<class 'set'>\n"
          ]
        }
      ]
    },
    {
      "cell_type": "markdown",
      "source": [
        "#*THANK YOU*  :) :)"
      ],
      "metadata": {
        "id": "7GDQ3omPknIZ"
      }
    }
  ]
}